{
  "nbformat": 4,
  "nbformat_minor": 0,
  "metadata": {
    "colab": {
      "provenance": []
    },
    "kernelspec": {
      "name": "python3",
      "display_name": "Python 3"
    },
    "language_info": {
      "name": "python"
    },
    "gpuClass": "standard"
  },
  "cells": [
    {
      "cell_type": "markdown",
      "source": [
        "# **This notebook contains the following for the Kaggle problem titled 'Titanic - Machine Learning from Disaster'**\n",
        "> ### 1. Exploratory Data Analysis\n",
        "> ### 2. Feature Engineering\n",
        "\n",
        "\n"
      ],
      "metadata": {
        "id": "wU-jGoMM67pb"
      }
    },
    {
      "cell_type": "markdown",
      "source": [
        "### **Original Problem Statement**: To create a machine learning model for predicting the passengers that survived the Titanic shipwreck.\n",
        "\n",
        "### **Problem Statement for this notebook**: To carry out the exploratory data analysis and feature engineering on the data."
      ],
      "metadata": {
        "id": "9mxF4QwyLlHD"
      }
    },
    {
      "cell_type": "code",
      "source": [
        "!pip install category_encoders\n",
        "!pip install matplotlib --upgrade\n",
        "!pip install seaborn --upgrade\n",
        "\n",
        "# Restart runtime after this"
      ],
      "metadata": {
        "colab": {
          "base_uri": "https://localhost:8080/"
        },
        "id": "1WETxK-K9JZr",
        "outputId": "afe24cea-29dc-4cd1-e288-649487e0bda8"
      },
      "execution_count": 1,
      "outputs": [
        {
          "output_type": "stream",
          "name": "stdout",
          "text": [
            "Looking in indexes: https://pypi.org/simple, https://us-python.pkg.dev/colab-wheels/public/simple/\n",
            "Requirement already satisfied: category_encoders in /usr/local/lib/python3.8/dist-packages (2.5.1.post0)\n",
            "Requirement already satisfied: patsy>=0.5.1 in /usr/local/lib/python3.8/dist-packages (from category_encoders) (0.5.3)\n",
            "Requirement already satisfied: scipy>=1.0.0 in /usr/local/lib/python3.8/dist-packages (from category_encoders) (1.7.3)\n",
            "Requirement already satisfied: numpy>=1.14.0 in /usr/local/lib/python3.8/dist-packages (from category_encoders) (1.21.6)\n",
            "Requirement already satisfied: statsmodels>=0.9.0 in /usr/local/lib/python3.8/dist-packages (from category_encoders) (0.12.2)\n",
            "Requirement already satisfied: pandas>=1.0.5 in /usr/local/lib/python3.8/dist-packages (from category_encoders) (1.3.5)\n",
            "Requirement already satisfied: scikit-learn>=0.20.0 in /usr/local/lib/python3.8/dist-packages (from category_encoders) (1.0.2)\n",
            "Requirement already satisfied: pytz>=2017.3 in /usr/local/lib/python3.8/dist-packages (from pandas>=1.0.5->category_encoders) (2022.7)\n",
            "Requirement already satisfied: python-dateutil>=2.7.3 in /usr/local/lib/python3.8/dist-packages (from pandas>=1.0.5->category_encoders) (2.8.2)\n",
            "Requirement already satisfied: six in /usr/local/lib/python3.8/dist-packages (from patsy>=0.5.1->category_encoders) (1.15.0)\n",
            "Requirement already satisfied: joblib>=0.11 in /usr/local/lib/python3.8/dist-packages (from scikit-learn>=0.20.0->category_encoders) (1.2.0)\n",
            "Requirement already satisfied: threadpoolctl>=2.0.0 in /usr/local/lib/python3.8/dist-packages (from scikit-learn>=0.20.0->category_encoders) (3.1.0)\n",
            "Looking in indexes: https://pypi.org/simple, https://us-python.pkg.dev/colab-wheels/public/simple/\n",
            "Requirement already satisfied: matplotlib in /usr/local/lib/python3.8/dist-packages (3.6.3)\n",
            "Requirement already satisfied: cycler>=0.10 in /usr/local/lib/python3.8/dist-packages (from matplotlib) (0.11.0)\n",
            "Requirement already satisfied: contourpy>=1.0.1 in /usr/local/lib/python3.8/dist-packages (from matplotlib) (1.0.7)\n",
            "Requirement already satisfied: pyparsing>=2.2.1 in /usr/local/lib/python3.8/dist-packages (from matplotlib) (3.0.9)\n",
            "Requirement already satisfied: fonttools>=4.22.0 in /usr/local/lib/python3.8/dist-packages (from matplotlib) (4.38.0)\n",
            "Requirement already satisfied: pillow>=6.2.0 in /usr/local/lib/python3.8/dist-packages (from matplotlib) (7.1.2)\n",
            "Requirement already satisfied: numpy>=1.19 in /usr/local/lib/python3.8/dist-packages (from matplotlib) (1.21.6)\n",
            "Requirement already satisfied: python-dateutil>=2.7 in /usr/local/lib/python3.8/dist-packages (from matplotlib) (2.8.2)\n",
            "Requirement already satisfied: packaging>=20.0 in /usr/local/lib/python3.8/dist-packages (from matplotlib) (21.3)\n",
            "Requirement already satisfied: kiwisolver>=1.0.1 in /usr/local/lib/python3.8/dist-packages (from matplotlib) (1.4.4)\n",
            "Requirement already satisfied: six>=1.5 in /usr/local/lib/python3.8/dist-packages (from python-dateutil>=2.7->matplotlib) (1.15.0)\n",
            "Looking in indexes: https://pypi.org/simple, https://us-python.pkg.dev/colab-wheels/public/simple/\n",
            "Requirement already satisfied: seaborn in /usr/local/lib/python3.8/dist-packages (0.12.2)\n",
            "Requirement already satisfied: pandas>=0.25 in /usr/local/lib/python3.8/dist-packages (from seaborn) (1.3.5)\n",
            "Requirement already satisfied: numpy!=1.24.0,>=1.17 in /usr/local/lib/python3.8/dist-packages (from seaborn) (1.21.6)\n",
            "Requirement already satisfied: matplotlib!=3.6.1,>=3.1 in /usr/local/lib/python3.8/dist-packages (from seaborn) (3.6.3)\n",
            "Requirement already satisfied: contourpy>=1.0.1 in /usr/local/lib/python3.8/dist-packages (from matplotlib!=3.6.1,>=3.1->seaborn) (1.0.7)\n",
            "Requirement already satisfied: python-dateutil>=2.7 in /usr/local/lib/python3.8/dist-packages (from matplotlib!=3.6.1,>=3.1->seaborn) (2.8.2)\n",
            "Requirement already satisfied: pillow>=6.2.0 in /usr/local/lib/python3.8/dist-packages (from matplotlib!=3.6.1,>=3.1->seaborn) (7.1.2)\n",
            "Requirement already satisfied: fonttools>=4.22.0 in /usr/local/lib/python3.8/dist-packages (from matplotlib!=3.6.1,>=3.1->seaborn) (4.38.0)\n",
            "Requirement already satisfied: kiwisolver>=1.0.1 in /usr/local/lib/python3.8/dist-packages (from matplotlib!=3.6.1,>=3.1->seaborn) (1.4.4)\n",
            "Requirement already satisfied: cycler>=0.10 in /usr/local/lib/python3.8/dist-packages (from matplotlib!=3.6.1,>=3.1->seaborn) (0.11.0)\n",
            "Requirement already satisfied: packaging>=20.0 in /usr/local/lib/python3.8/dist-packages (from matplotlib!=3.6.1,>=3.1->seaborn) (21.3)\n",
            "Requirement already satisfied: pyparsing>=2.2.1 in /usr/local/lib/python3.8/dist-packages (from matplotlib!=3.6.1,>=3.1->seaborn) (3.0.9)\n",
            "Requirement already satisfied: pytz>=2017.3 in /usr/local/lib/python3.8/dist-packages (from pandas>=0.25->seaborn) (2022.7)\n",
            "Requirement already satisfied: six>=1.5 in /usr/local/lib/python3.8/dist-packages (from python-dateutil>=2.7->matplotlib!=3.6.1,>=3.1->seaborn) (1.15.0)\n"
          ]
        }
      ]
    },
    {
      "cell_type": "code",
      "source": [
        "# Importing the necessary libraries\n",
        "import pandas as pd\n",
        "import numpy as np\n",
        "import matplotlib.pyplot as plt\n",
        "import seaborn as sns\n",
        "import math\n",
        "import category_encoders as ce\n",
        "from sklearn.model_selection import train_test_split\n",
        "from sklearn.preprocessing import StandardScaler, MinMaxScaler"
      ],
      "metadata": {
        "id": "aSnJeOxS-YmH"
      },
      "execution_count": 2,
      "outputs": []
    },
    {
      "cell_type": "markdown",
      "source": [
        "## **1] Exploratory Data Analysis (EDA)**\n",
        "\n",
        "---\n",
        "\n",
        "General Steps:\n",
        "1.   Data Collection\n",
        "2.   Univariate Analysis   \n",
        "3.   Data Cleaning\n",
        "4.   Bivariate Analysis\n",
        "\n",
        "\n"
      ],
      "metadata": {
        "id": "MJo663Ka7nAH"
      }
    },
    {
      "cell_type": "markdown",
      "source": [
        "### **EDA1 - Data Collection**\n",
        "\n",
        "---\n",
        "\n",
        "Making sure that the data collected is from a reliable source (Kaggle in this case)\n",
        "\n",
        "1. Load the data\n",
        "2. Print the number of rows and columns \n",
        "3. Print the columns' titles\n",
        "4. Print the columns' datatypes \n",
        "\n",
        "The explanation of the dataset is given [here](https://www.kaggle.com/competitions/titanic/data). A csv file titled **train.csv** is used for the purpose of this notebook."
      ],
      "metadata": {
        "id": "zFoapClj81ga"
      }
    },
    {
      "cell_type": "markdown",
      "source": [
        "#### Loading the data"
      ],
      "metadata": {
        "id": "KweH7BlLX5UW"
      }
    },
    {
      "cell_type": "code",
      "source": [
        "# Add an extra argument 'header=None' if the csv file does not have any header\n",
        "# Check what the separator is from ';' or ',' Here it is ';'\n",
        "\n",
        "pd.set_option('display.max_columns', None, 'display.max_rows', None, 'display.expand_frame_repr', None)\n",
        "\n",
        "dataset = pd.read_csv('train.csv')\n",
        "df = dataset.copy()\n",
        "print(df.head())"
      ],
      "metadata": {
        "colab": {
          "base_uri": "https://localhost:8080/"
        },
        "id": "NJ8E8g56-s2m",
        "outputId": "b1c27e2d-1a9e-4a5e-d406-4d76c04af1cd"
      },
      "execution_count": 3,
      "outputs": [
        {
          "output_type": "stream",
          "name": "stdout",
          "text": [
            "   PassengerId  Survived  Pclass                                               Name     Sex   Age  SibSp  Parch            Ticket     Fare Cabin Embarked\n",
            "0            1         0       3                            Braund, Mr. Owen Harris    male  22.0      1      0         A/5 21171   7.2500   NaN        S\n",
            "1            2         1       1  Cumings, Mrs. John Bradley (Florence Briggs Th...  female  38.0      1      0          PC 17599  71.2833   C85        C\n",
            "2            3         1       3                             Heikkinen, Miss. Laina  female  26.0      0      0  STON/O2. 3101282   7.9250   NaN        S\n",
            "3            4         1       1       Futrelle, Mrs. Jacques Heath (Lily May Peel)  female  35.0      1      0            113803  53.1000  C123        S\n",
            "4            5         0       3                           Allen, Mr. William Henry    male  35.0      0      0            373450   8.0500   NaN        S\n"
          ]
        }
      ]
    },
    {
      "cell_type": "markdown",
      "source": [
        "#### Checking the number of rows (entries) and columns (features/attributes) in the dataset"
      ],
      "metadata": {
        "id": "sAXzgVuEX9jc"
      }
    },
    {
      "cell_type": "code",
      "source": [
        "print(f'Number of entries in the dataset: {df.shape[0]}')\n",
        "print(f'Number of columns in the dataset: {df.shape[1]}')"
      ],
      "metadata": {
        "colab": {
          "base_uri": "https://localhost:8080/"
        },
        "id": "SyhpGEqy_ZVM",
        "outputId": "2c52bee4-5ee2-4894-db56-8119efcf2a5f"
      },
      "execution_count": 4,
      "outputs": [
        {
          "output_type": "stream",
          "name": "stdout",
          "text": [
            "Number of entries in the dataset: 891\n",
            "Number of columns in the dataset: 12\n"
          ]
        }
      ]
    },
    {
      "cell_type": "markdown",
      "source": [
        "#### Printing the columns' titles"
      ],
      "metadata": {
        "id": "mYBG2TuCYNJc"
      }
    },
    {
      "cell_type": "code",
      "source": [
        "# Printing the attributes\n",
        "list_attr = list(df.columns)\n",
        "print('\\nThe attributes of the dataset are as follows: ')\n",
        "for attr in list_attr:\n",
        "  print(f'\\t {list_attr.index(attr)}: {attr}')"
      ],
      "metadata": {
        "colab": {
          "base_uri": "https://localhost:8080/"
        },
        "id": "xnR6mus7YQ6w",
        "outputId": "c390579a-1e34-44a6-f0ca-74c19cb649a0"
      },
      "execution_count": 5,
      "outputs": [
        {
          "output_type": "stream",
          "name": "stdout",
          "text": [
            "\n",
            "The attributes of the dataset are as follows: \n",
            "\t 0: PassengerId\n",
            "\t 1: Survived\n",
            "\t 2: Pclass\n",
            "\t 3: Name\n",
            "\t 4: Sex\n",
            "\t 5: Age\n",
            "\t 6: SibSp\n",
            "\t 7: Parch\n",
            "\t 8: Ticket\n",
            "\t 9: Fare\n",
            "\t 10: Cabin\n",
            "\t 11: Embarked\n"
          ]
        }
      ]
    },
    {
      "cell_type": "markdown",
      "source": [
        "#### Printing the columns' datatypes"
      ],
      "metadata": {
        "id": "ZoFQq4xcYWNY"
      }
    },
    {
      "cell_type": "code",
      "source": [
        "col_datatypes = df.info(null_counts=0)\n",
        "print(col_datatypes)"
      ],
      "metadata": {
        "colab": {
          "base_uri": "https://localhost:8080/"
        },
        "id": "mVLBm3Yz_qZc",
        "outputId": "f1964ef7-72f2-4992-cdf7-74326fd07762"
      },
      "execution_count": 6,
      "outputs": [
        {
          "output_type": "stream",
          "name": "stdout",
          "text": [
            "<class 'pandas.core.frame.DataFrame'>\n",
            "RangeIndex: 891 entries, 0 to 890\n",
            "Data columns (total 12 columns):\n",
            " #   Column       Dtype  \n",
            "---  ------       -----  \n",
            " 0   PassengerId  int64  \n",
            " 1   Survived     int64  \n",
            " 2   Pclass       int64  \n",
            " 3   Name         object \n",
            " 4   Sex          object \n",
            " 5   Age          float64\n",
            " 6   SibSp        int64  \n",
            " 7   Parch        int64  \n",
            " 8   Ticket       object \n",
            " 9   Fare         float64\n",
            " 10  Cabin        object \n",
            " 11  Embarked     object \n",
            "dtypes: float64(2), int64(5), object(5)\n",
            "memory usage: 83.7+ KB\n",
            "None\n"
          ]
        },
        {
          "output_type": "stream",
          "name": "stderr",
          "text": [
            "<ipython-input-6-082cc45ea25f>:1: FutureWarning: null_counts is deprecated. Use show_counts instead\n",
            "  col_datatypes = df.info(null_counts=0)\n"
          ]
        }
      ]
    },
    {
      "cell_type": "markdown",
      "source": [
        "### **EDA2 - Univariate Analysis - 1**\n",
        "\n",
        "---\n",
        "1. Find the categorical and 'other' columns\n",
        "2. Find the number of unique values\n",
        "3. For categorical variables, print the unique values\n",
        "4. Find the target variables' distribution\n",
        "> For continuous variable, plot histogram \\\n",
        "  For categorical variable, plot bar graph (count plot)\n",
        "5. Find the features' distributions for outliers - histograms and boxplots\n",
        ">  **The distributions can have:** \\\n",
        "   **Positive skew or right skew** - distribution more towards the left i.e. \n",
        "   MEAN > MEDIAN > MODE \\\n",
        "   **Negative skew or left skew** - distribution more towards right\n",
        "   MODE > MEDIAN > MEAN \\\n",
        "   If the skewness is \\\n",
        "   (-0.5, 0.5) -> nearly symmetrical. \\\n",
        "   (-1, -0.5] or [0.5, 1) -> slightly skewed \\\n",
        "   (-inf, -1] or [1, inf) -> highly skewed \\\n",
        "   \\-------------------------------------------------------------------\\\n",
        "   **Three types of kurtosis:** \\\n",
        "   Mesokurtic - kurt = 3. Normal distribution \\\n",
        "   Leptokurtic - kurt > 3. Long and skinny tails. Heavy tails. Large outliers. \\\n",
        "   Platykurtic - kurt < 3. Flat tails. Small outliers "
      ],
      "metadata": {
        "id": "TlX9Za7z9z3Z"
      }
    },
    {
      "cell_type": "markdown",
      "source": [
        "#### Finding the Numerical and Categorical features\n",
        "---\n",
        "CAREFUL HERE! Refer to the data source before making any assumptions\n",
        "\n",
        "From the data source, \n",
        "\n",
        "The target variable is: Survived\n",
        "\n",
        "The categorical features are: Sex, Pclass, Embarked\n",
        "\n",
        "The purely numerical features are: Age, SibSp, Parch, Fare\n",
        "\n",
        "Other features: PassengerId, Name, Cabin, Ticket\n",
        "\n"
      ],
      "metadata": {
        "id": "zvfkiOHmWVgL"
      }
    },
    {
      "cell_type": "code",
      "source": [
        "target_var = 'Survived'\n",
        "idx_target = list_attr.index(target_var)\n",
        "\n",
        "\n",
        "numerical_features   = ['Age', 'SibSp', 'Parch', 'Fare']\n",
        "categorical_features = ['Sex', 'Pclass', 'Embarked']\n",
        "other_features = ['PassengerId', 'Name', 'Cabin', 'Ticket']\n",
        "\n",
        "idx_numerical = []\n",
        "idx_categorical = []\n",
        "idx_other = []\n",
        "\n",
        "for i in numerical_features:\n",
        "  idx = list_attr.index(i)\n",
        "  idx_numerical.append(idx)\n",
        "\n",
        "for i in categorical_features:\n",
        "  idx = list_attr.index(i)\n",
        "  idx_categorical.append(idx)\n",
        "\n",
        "for i in other_features:\n",
        "  idx = list_attr.index(i)\n",
        "  idx_other.append(idx)\n",
        "\n",
        "print(f'List of features: {numerical_features+categorical_features+other_features}')\n",
        "print('\\n')\n",
        "print(f'Numerical attributes: {numerical_features}')\n",
        "print(f'Indices of numerical attributes: {idx_numerical}')\n",
        "print('\\n')\n",
        "print(f'Categorical attributes: {categorical_features}')\n",
        "print(f'Indices of categorical attributes: {idx_categorical}')\n",
        "print('\\n')\n",
        "print(f'Other attributes: {other_features}')\n",
        "print(f'Indices of other attributes: {idx_other}')\n",
        "print('\\n')\n",
        "print(f'Target variable: {target_var}')\n",
        "print(f'Index of target variable: {idx_target}')\n"
      ],
      "metadata": {
        "colab": {
          "base_uri": "https://localhost:8080/"
        },
        "id": "AWwQ6p1RTupB",
        "outputId": "472b3117-dba9-4a13-b25e-0d0502202ef0"
      },
      "execution_count": 7,
      "outputs": [
        {
          "output_type": "stream",
          "name": "stdout",
          "text": [
            "List of features: ['Age', 'SibSp', 'Parch', 'Fare', 'Sex', 'Pclass', 'Embarked', 'PassengerId', 'Name', 'Cabin', 'Ticket']\n",
            "\n",
            "\n",
            "Numerical attributes: ['Age', 'SibSp', 'Parch', 'Fare']\n",
            "Indices of numerical attributes: [5, 6, 7, 9]\n",
            "\n",
            "\n",
            "Categorical attributes: ['Sex', 'Pclass', 'Embarked']\n",
            "Indices of categorical attributes: [4, 2, 11]\n",
            "\n",
            "\n",
            "Other attributes: ['PassengerId', 'Name', 'Cabin', 'Ticket']\n",
            "Indices of other attributes: [0, 3, 10, 8]\n",
            "\n",
            "\n",
            "Target variable: Survived\n",
            "Index of target variable: 1\n"
          ]
        }
      ]
    },
    {
      "cell_type": "markdown",
      "source": [
        "#### Finding the number of unique values in each column \n"
      ],
      "metadata": {
        "id": "vL-K1INwWefo"
      }
    },
    {
      "cell_type": "code",
      "source": [
        "# For categorical variables, printing the unique values\n",
        "print('The number unique values for the numerical features: ')\n",
        "print(df.nunique().drop(categorical_features).drop(other_features))\n",
        "print('\\n')\n",
        "print('##############################################################')\n",
        "print('The number unique values for the categorical features: ')\n",
        "print(df.nunique().drop(numerical_features).drop(other_features))\n",
        "print('\\n')\n",
        "print('##############################################################')\n",
        "print('The number unique values for the other features: ')\n",
        "print(df.nunique().drop(numerical_features).drop(categorical_features))"
      ],
      "metadata": {
        "colab": {
          "base_uri": "https://localhost:8080/"
        },
        "id": "pI1gj1D7RMSa",
        "outputId": "c308ed97-3ff2-4f2c-b01e-9650d4186c55"
      },
      "execution_count": 8,
      "outputs": [
        {
          "output_type": "stream",
          "name": "stdout",
          "text": [
            "The number unique values for the numerical features: \n",
            "Survived      2\n",
            "Age          88\n",
            "SibSp         7\n",
            "Parch         7\n",
            "Fare        248\n",
            "dtype: int64\n",
            "\n",
            "\n",
            "##############################################################\n",
            "The number unique values for the categorical features: \n",
            "Survived    2\n",
            "Pclass      3\n",
            "Sex         2\n",
            "Embarked    3\n",
            "dtype: int64\n",
            "\n",
            "\n",
            "##############################################################\n",
            "The number unique values for the other features: \n",
            "PassengerId    891\n",
            "Survived         2\n",
            "Name           891\n",
            "Ticket         681\n",
            "Cabin          147\n",
            "dtype: int64\n"
          ]
        }
      ]
    },
    {
      "cell_type": "markdown",
      "source": [
        "#### Printing the unique values of categorical columns"
      ],
      "metadata": {
        "id": "0w8suwVBWztC"
      }
    },
    {
      "cell_type": "code",
      "source": [
        "print('\\nThe unique values for the categories are: ')\n",
        "for i in categorical_features:\n",
        "  print(f'{i}: {df[i].unique()}')"
      ],
      "metadata": {
        "colab": {
          "base_uri": "https://localhost:8080/"
        },
        "id": "AMjZRbU3XIUA",
        "outputId": "ebd8f090-824e-4fe5-ced6-9b2bf7ee515d"
      },
      "execution_count": 9,
      "outputs": [
        {
          "output_type": "stream",
          "name": "stdout",
          "text": [
            "\n",
            "The unique values for the categories are: \n",
            "Sex: ['male' 'female']\n",
            "Pclass: [3 1 2]\n",
            "Embarked: ['S' 'C' 'Q' nan]\n"
          ]
        }
      ]
    },
    {
      "cell_type": "markdown",
      "source": [
        "#### Finding the target variable's distribution"
      ],
      "metadata": {
        "id": "6xisEfwOXNV9"
      }
    },
    {
      "cell_type": "code",
      "source": [
        "# Checking the target variables distribution\n",
        "\n",
        "# If continuous - histogram\n",
        "\n",
        "# plt.figure()\n",
        "# sns.displot(df[target_var], bins=30).set(title='Histogram of the target variable')\n",
        "# print('\\n')\n",
        "# plt.figure()\n",
        "# sns.displot(df[target_var], kind='kde').set(title='Density')\n",
        "# plt.show()\n",
        "\n",
        "# If categorical - bar graph for count\n",
        "plt.figure() \n",
        "sns.countplot(x=target_var, data=df).set(title='Count distribution of the the target variable')\n",
        "plt.show()"
      ],
      "metadata": {
        "colab": {
          "base_uri": "https://localhost:8080/",
          "height": 295
        },
        "id": "tY4Qy4H0iOL0",
        "outputId": "54a4112e-cb8c-46dc-ddd3-e8f6afebdcda"
      },
      "execution_count": 10,
      "outputs": [
        {
          "output_type": "display_data",
          "data": {
            "text/plain": [
              "<Figure size 432x288 with 1 Axes>"
            ],
            "image/png": "[encoded data removed]"
          },
          "metadata": {
            "needs_background": "light"
          }
        }
      ]
    },
    {
      "cell_type": "markdown",
      "source": [
        "#### Finding the features' distributions"
      ],
      "metadata": {
        "id": "S6reQtd8XU-W"
      }
    },
    {
      "cell_type": "code",
      "source": [
        "# Plotting numerical variables histogram distributions\n",
        "# Also printing skewness and kurtosis for them\n",
        "for i in numerical_features:\n",
        "  if i != target_var:\n",
        "    print('\\n')\n",
        "    plt.figure()\n",
        "    sns.displot(df[i], bins=20).set(title=f'Histogram for the attribute \\'{i}\\'')\n",
        "    plt.show()\n",
        "    skew = df[i].skew()\n",
        "    kurt = df[i].kurt()\n",
        "    print(f'Skewness: {skew}')\n",
        "    if skew > 0:\n",
        "      dir = 'right'\n",
        "    else:\n",
        "      dir = 'left'\n",
        "    if skew > -0.5 and skew < 0.5:\n",
        "      print('\\t The distribution is nearly symmetrical')\n",
        "    elif (skew > -1 and skew <= -0.5) or (skew >= 0.5 and skew < 1):\n",
        "      print(f'\\t The distribution is slightly skewed towards the {dir}')\n",
        "    else:\n",
        "      print(f'\\t The distribution is highly skewed towards the {dir}')\n",
        "    print('\\n')\n",
        "    print(f'Kurtosis: {kurt}')\n",
        "    if kurt == 3:\n",
        "      print('\\t The distribution is mesokurtic - normal')\n",
        "    elif kurt > 3:\n",
        "      print('\\t The distribution is leptokurtic. Large outliers.')\n",
        "    else:\n",
        "      print('\\t The distribution is platykurtic. Small outliers.')\n",
        "    print('########################################################')\n"
      ],
      "metadata": {
        "colab": {
          "base_uri": "https://localhost:8080/",
          "height": 1000
        },
        "id": "8JWH1W9wmUOJ",
        "outputId": "c17ab7aa-a52a-475f-8f0c-c8211b4e1522"
      },
      "execution_count": 11,
      "outputs": [
        {
          "output_type": "stream",
          "name": "stdout",
          "text": [
            "\n",
            "\n"
          ]
        },
        {
          "output_type": "display_data",
          "data": {
            "text/plain": [
              "<Figure size 432x288 with 0 Axes>"
            ]
          },
          "metadata": {}
        },
        {
          "output_type": "display_data",
          "data": {
            "text/plain": [
              "<Figure size 360x360 with 1 Axes>"
            ],
            "image/png": "[encoded data removed]"
          },
          "metadata": {
            "needs_background": "light"
          }
        },
        {
          "output_type": "stream",
          "name": "stdout",
          "text": [
            "Skewness: 0.38910778230082704\n",
            "\t The distribution is nearly symmetrical\n",
            "\n",
            "\n",
            "Kurtosis: 0.17827415364210353\n",
            "\t The distribution is platykurtic. Small outliers.\n",
            "########################################################\n",
            "\n",
            "\n"
          ]
        },
        {
          "output_type": "display_data",
          "data": {
            "text/plain": [
              "<Figure size 432x288 with 0 Axes>"
            ]
          },
          "metadata": {}
        },
        {
          "output_type": "display_data",
          "data": {
            "text/plain": [
              "<Figure size 360x360 with 1 Axes>"
            ],
            "image/png": "[encoded data removed]"
          },
          "metadata": {
            "needs_background": "light"
          }
        },
        {
          "output_type": "stream",
          "name": "stdout",
          "text": [
            "Skewness: 3.6953517271630565\n",
            "\t The distribution is highly skewed towards the right\n",
            "\n",
            "\n",
            "Kurtosis: 17.880419726645968\n",
            "\t The distribution is leptokurtic. Large outliers.\n",
            "########################################################\n",
            "\n",
            "\n"
          ]
        },
        {
          "output_type": "display_data",
          "data": {
            "text/plain": [
              "<Figure size 432x288 with 0 Axes>"
            ]
          },
          "metadata": {}
        },
        {
          "output_type": "display_data",
          "data": {
            "text/plain": [
              "<Figure size 360x360 with 1 Axes>"
            ],
            "image/png": "[encoded data removed]"
          },
          "metadata": {
            "needs_background": "light"
          }
        },
        {
          "output_type": "stream",
          "name": "stdout",
          "text": [
            "Skewness: 2.7491170471010933\n",
            "\t The distribution is highly skewed towards the right\n",
            "\n",
            "\n",
            "Kurtosis: 9.778125179021648\n",
            "\t The distribution is leptokurtic. Large outliers.\n",
            "########################################################\n",
            "\n",
            "\n"
          ]
        },
        {
          "output_type": "display_data",
          "data": {
            "text/plain": [
              "<Figure size 432x288 with 0 Axes>"
            ]
          },
          "metadata": {}
        },
        {
          "output_type": "display_data",
          "data": {
            "text/plain": [
              "<Figure size 360x360 with 1 Axes>"
            ],
            "image/png": "[encoded data removed]"
          },
          "metadata": {
            "needs_background": "light"
          }
        },
        {
          "output_type": "stream",
          "name": "stdout",
          "text": [
            "Skewness: 4.787316519674893\n",
            "\t The distribution is highly skewed towards the right\n",
            "\n",
            "\n",
            "Kurtosis: 33.39814088089868\n",
            "\t The distribution is leptokurtic. Large outliers.\n",
            "########################################################\n"
          ]
        }
      ]
    },
    {
      "cell_type": "code",
      "source": [
        "# Plotting the boxplots for numerical variables\n",
        "# Some boxplots - like the ones with very few numerical unique values are not very useful\n",
        "for i in numerical_features:\n",
        "  print('\\n')\n",
        "  plt.figure()\n",
        "  sns.boxplot(y=df[i]).set(title=f'Boxplot for the attribute \\'{i}\\'')\n",
        "  plt.show()"
      ],
      "metadata": {
        "colab": {
          "base_uri": "https://localhost:8080/",
          "height": 1000
        },
        "id": "Vew8UVzLvFhA",
        "outputId": "4ace11ca-03b7-4f91-a4a5-2d4867e6f972"
      },
      "execution_count": 12,
      "outputs": [
        {
          "output_type": "stream",
          "name": "stdout",
          "text": [
            "\n",
            "\n"
          ]
        },
        {
          "output_type": "display_data",
          "data": {
            "text/plain": [
              "<Figure size 432x288 with 1 Axes>"
            ],
            "image/png": "[encoded data removed]"
          },
          "metadata": {
            "needs_background": "light"
          }
        },
        {
          "output_type": "stream",
          "name": "stdout",
          "text": [
            "\n",
            "\n"
          ]
        },
        {
          "output_type": "display_data",
          "data": {
            "text/plain": [
              "<Figure size 432x288 with 1 Axes>"
            ],
            "image/png": "[encoded data removed]"
          },
          "metadata": {
            "needs_background": "light"
          }
        },
        {
          "output_type": "stream",
          "name": "stdout",
          "text": [
            "\n",
            "\n"
          ]
        },
        {
          "output_type": "display_data",
          "data": {
            "text/plain": [
              "<Figure size 432x288 with 1 Axes>"
            ],
            "image/png": "[encoded data removed]"
          },
          "metadata": {
            "needs_background": "light"
          }
        },
        {
          "output_type": "stream",
          "name": "stdout",
          "text": [
            "\n",
            "\n"
          ]
        },
        {
          "output_type": "display_data",
          "data": {
            "text/plain": [
              "<Figure size 432x288 with 1 Axes>"
            ],
            "image/png": "[encoded data removed]"
          },
          "metadata": {
            "needs_background": "light"
          }
        }
      ]
    },
    {
      "cell_type": "code",
      "source": [
        "# Plotting the distributions of categorical variables\n",
        "num_figs_row = 3\n",
        "plt.figure(figsize=[15, 3*math.ceil(len(categorical_features)/num_figs_row)])\n",
        "\n",
        "for i in range(len(categorical_features)):\n",
        "    if df[categorical_features[i]].nunique()<=8:\n",
        "        plt.subplot(math.ceil(len(categorical_features)/num_figs_row), num_figs_row, i+1)\n",
        "        sns.countplot(x=df[categorical_features[i]], data=df)\n",
        "    else:\n",
        "        plt.subplot(3,1,3)\n",
        "        sns.countplot(x=df[categorical_features[i]], data=df)\n",
        "        \n",
        "plt.tight_layout()\n",
        "plt.show()\n"
      ],
      "metadata": {
        "colab": {
          "base_uri": "https://localhost:8080/",
          "height": 225
        },
        "id": "0IrdTAsVxoyJ",
        "outputId": "45fd80fe-cb8a-4f61-be84-1d585ceda355"
      },
      "execution_count": 13,
      "outputs": [
        {
          "output_type": "display_data",
          "data": {
            "text/plain": [
              "<Figure size 1080x216 with 3 Axes>"
            ],
            "image/png": "[encoded data removed]"
          },
          "metadata": {
            "needs_background": "light"
          }
        }
      ]
    },
    {
      "cell_type": "code",
      "source": [
        "# See if you can predict outliers from here\n",
        "print(df.describe())"
      ],
      "metadata": {
        "colab": {
          "base_uri": "https://localhost:8080/"
        },
        "id": "nzj0tluO0iRv",
        "outputId": "ea70d123-e62d-48ee-fe23-d9335015c9b5"
      },
      "execution_count": 14,
      "outputs": [
        {
          "output_type": "stream",
          "name": "stdout",
          "text": [
            "       PassengerId    Survived      Pclass         Age       SibSp       Parch        Fare\n",
            "count   891.000000  891.000000  891.000000  714.000000  891.000000  891.000000  891.000000\n",
            "mean    446.000000    0.383838    2.308642   29.699118    0.523008    0.381594   32.204208\n",
            "std     257.353842    0.486592    0.836071   14.526497    1.102743    0.806057   49.693429\n",
            "min       1.000000    0.000000    1.000000    0.420000    0.000000    0.000000    0.000000\n",
            "25%     223.500000    0.000000    2.000000   20.125000    0.000000    0.000000    7.910400\n",
            "50%     446.000000    0.000000    3.000000   28.000000    0.000000    0.000000   14.454200\n",
            "75%     668.500000    1.000000    3.000000   38.000000    1.000000    0.000000   31.000000\n",
            "max     891.000000    1.000000    3.000000   80.000000    8.000000    6.000000  512.329200\n"
          ]
        }
      ]
    },
    {
      "cell_type": "markdown",
      "source": [
        "### **EDA3 - Data Cleaning**\n",
        "#### Also the first step of feature engineering\n",
        "\n",
        "---\n",
        "\n",
        "*   Taking care of:\n",
        "  * Missing Values\n",
        "  * Outliers\n",
        "  * Unnecessary rows and columns"
      ],
      "metadata": {
        "id": "o3aXhFpjNPHl"
      }
    },
    {
      "cell_type": "markdown",
      "source": [
        "#### Taking care of Missing Values\n",
        "\n",
        "Check the columns that are missing some data\n",
        "\n",
        "> If % of missing data >=20, maybe drop the column? \n",
        "\n",
        "> If categorical, maybe drop or replace with MODE of column - strategize\n",
        "\n",
        "> If numeric\n",
        "\n",
        ">> If something like survey, quality etc., drop the rows since you cannot fill those (unethical)\n",
        "\n",
        ">> Else, check distribution - boxplots and histograms, and decide as to whether carry out the replacement with MEAN or MEDIAN. If there are heavy outliers, then replace with median."
      ],
      "metadata": {
        "id": "Ck4WZgpp7H86"
      }
    },
    {
      "cell_type": "code",
      "source": [
        "# Printing the NUMBER OF MISSING VALUES and THE PERCENT OF TOTAL that they constitute \n",
        "null_vals = df.isnull().sum().sort_values(ascending=False)\n",
        "percent_null_vals = (null_vals / df.shape[0])*100\n",
        "\n",
        "df_null_count = pd.concat([null_vals, percent_null_vals], axis=1, keys=['Total null values', 'Percentage of total'])\n",
        "print(df_null_count)\n",
        "print('\\n')\n",
        "plt.figure()\n",
        "sns.heatmap(df.isnull().transpose(), cbar=False, xticklabels=False, cmap = 'viridis').set(title='Heatmap of missing values')\n",
        "plt.show()"
      ],
      "metadata": {
        "colab": {
          "base_uri": "https://localhost:8080/",
          "height": 532
        },
        "id": "tkCKHBOk1pWN",
        "outputId": "513a825d-76bc-4bc4-f664-3c9142603448"
      },
      "execution_count": 15,
      "outputs": [
        {
          "output_type": "stream",
          "name": "stdout",
          "text": [
            "             Total null values  Percentage of total\n",
            "Cabin                      687            77.104377\n",
            "Age                        177            19.865320\n",
            "Embarked                     2             0.224467\n",
            "PassengerId                  0             0.000000\n",
            "Survived                     0             0.000000\n",
            "Pclass                       0             0.000000\n",
            "Name                         0             0.000000\n",
            "Sex                          0             0.000000\n",
            "SibSp                        0             0.000000\n",
            "Parch                        0             0.000000\n",
            "Ticket                       0             0.000000\n",
            "Fare                         0             0.000000\n",
            "\n",
            "\n"
          ]
        },
        {
          "output_type": "display_data",
          "data": {
            "text/plain": [
              "<Figure size 432x288 with 1 Axes>"
            ],
            "image/png": "[encoded data removed]"
          },
          "metadata": {
            "needs_background": "light"
          }
        }
      ]
    },
    {
      "cell_type": "code",
      "source": [
        "# DROPPING of ENTIRE COLUMNS\n",
        "\n",
        "drop_cols = ['Cabin']\n",
        "df.drop(drop_cols, axis=1, inplace=True)\n",
        "print(df.head())"
      ],
      "metadata": {
        "id": "QTih_Exd5ThT",
        "colab": {
          "base_uri": "https://localhost:8080/"
        },
        "outputId": "e4f7eb37-68fa-4291-a9e1-3ee98a40c2a7"
      },
      "execution_count": 16,
      "outputs": [
        {
          "output_type": "stream",
          "name": "stdout",
          "text": [
            "   PassengerId  Survived  Pclass                                               Name     Sex   Age  SibSp  Parch            Ticket     Fare Embarked\n",
            "0            1         0       3                            Braund, Mr. Owen Harris    male  22.0      1      0         A/5 21171   7.2500        S\n",
            "1            2         1       1  Cumings, Mrs. John Bradley (Florence Briggs Th...  female  38.0      1      0          PC 17599  71.2833        C\n",
            "2            3         1       3                             Heikkinen, Miss. Laina  female  26.0      0      0  STON/O2. 3101282   7.9250        S\n",
            "3            4         1       1       Futrelle, Mrs. Jacques Heath (Lily May Peel)  female  35.0      1      0            113803  53.1000        S\n",
            "4            5         0       3                           Allen, Mr. William Henry    male  35.0      0      0            373450   8.0500        S\n"
          ]
        }
      ]
    },
    {
      "cell_type": "code",
      "source": [
        "# DROPPING of ROWS with missing values of certain columns\n",
        "\n",
        "# nr_cols = [COLUMN_NAMES]\n",
        "# df = df.dropna(subset=nr_cols)\n",
        "# df = df.reset_index()\n",
        "# print(f'Number of rows in the original dataset: {dataset.shape[0]}')\n",
        "# print(f'Number of rows now: {df.shape[0]}')"
      ],
      "metadata": {
        "id": "sZccDdWU55Jl"
      },
      "execution_count": 17,
      "outputs": []
    },
    {
      "cell_type": "code",
      "source": [
        "# CATEGORICAL column values replacement with MODE\n",
        "\n",
        "mode_cols = ['Embarked']\n",
        "\n",
        "df[mode_cols] = df[mode_cols].fillna(df[mode_cols].mode().iloc[0])"
      ],
      "metadata": {
        "id": "l8PP_W1K6WEN"
      },
      "execution_count": 18,
      "outputs": []
    },
    {
      "cell_type": "code",
      "source": [
        "# NUMERICAL column values replacement with MEAN OR MEDIAN\n",
        "# Note: Replacing the missgíng values of age with the MEAN is a judgement call here.\n",
        "# Looking at the histogram of 'Age' column, there are only small outliers present, so the replacement can be either MEAN or MEDIAN\n",
        "mean_cols = ['Age']\n",
        "# median_cols = [COLUMN_NAMES]\n",
        "\n",
        "df[mean_cols] = df[mean_cols].fillna(df[mean_cols].mean())\n",
        "# df[median_cols] = df.fillna(df[median_cols].median())\n",
        "print(df.head())"
      ],
      "metadata": {
        "id": "2kQ5OXqL6lB7",
        "colab": {
          "base_uri": "https://localhost:8080/"
        },
        "outputId": "294fa735-8529-4940-d329-8bc0b2ca6e87"
      },
      "execution_count": 19,
      "outputs": [
        {
          "output_type": "stream",
          "name": "stdout",
          "text": [
            "   PassengerId  Survived  Pclass                                               Name     Sex   Age  SibSp  Parch            Ticket     Fare Embarked\n",
            "0            1         0       3                            Braund, Mr. Owen Harris    male  22.0      1      0         A/5 21171   7.2500        S\n",
            "1            2         1       1  Cumings, Mrs. John Bradley (Florence Briggs Th...  female  38.0      1      0          PC 17599  71.2833        C\n",
            "2            3         1       3                             Heikkinen, Miss. Laina  female  26.0      0      0  STON/O2. 3101282   7.9250        S\n",
            "3            4         1       1       Futrelle, Mrs. Jacques Heath (Lily May Peel)  female  35.0      1      0            113803  53.1000        S\n",
            "4            5         0       3                           Allen, Mr. William Henry    male  35.0      0      0            373450   8.0500        S\n"
          ]
        }
      ]
    },
    {
      "cell_type": "markdown",
      "source": [
        "#### Taking care of outliers\n",
        "---\n",
        "This should only be done when there is a huge amount of data. Since this is not the case here, this step is not carried out."
      ],
      "metadata": {
        "id": "Ocbyvopy7MIY"
      }
    },
    {
      "cell_type": "code",
      "source": [
        "# Removing outliers - CAREFUL - do so only when good amount of data\n",
        "# print(f'Number of rows in the original dataset: {dataset.shape[0]}')\n",
        "# print(f'Number of rows before removing the outliers: {df.shape[0]}')\n",
        "\n",
        "# outlier_cols = ['area']\n",
        "# for col in outlier_cols:\n",
        "#   q1 = df[col].quantile(0.25)\n",
        "#   q3 = df[col].quantile(0.75)\n",
        "#   iqr = q3 - q1\n",
        "#   df = df[df[col] >= q1 - 1.5*iqr]\n",
        "#   df = df[df[col] <= q3 + 1.5*iqr]\n",
        "# print(f'Number of rows after removing outliers: {df.shape[0]}')"
      ],
      "metadata": {
        "id": "qZBJjrBqCB3y"
      },
      "execution_count": 20,
      "outputs": []
    },
    {
      "cell_type": "code",
      "source": [
        "# New boxplots of the features\n",
        "# for attr in outlier_cols:\n",
        "#   print('\\n')\n",
        "#   plt.figure()\n",
        "#   sns.boxplot(y=df[attr]).set(title=f'Boxplot for the attribute \\'{attr}\\'')\n",
        "#   plt.show()"
      ],
      "metadata": {
        "id": "gUQaOu1-TENE"
      },
      "execution_count": 21,
      "outputs": []
    },
    {
      "cell_type": "markdown",
      "source": [
        "### **EDA4 - Bivariate Analysis**\n",
        "\n",
        "---\n",
        "\n",
        "Three types:\n",
        "1. Numeric-numeric\n",
        "2. Numeric-categorical\n",
        "3. Categorical-categorical"
      ],
      "metadata": {
        "id": "5bX96v2CVbsV"
      }
    },
    {
      "cell_type": "markdown",
      "source": [
        "#### Numeric-numeric analysis\n",
        "\n",
        "---\n",
        "\n",
        "1. Pair plots\n",
        "2. Correlation matrix"
      ],
      "metadata": {
        "id": "MgGoUo4GbZdg"
      }
    },
    {
      "cell_type": "code",
      "source": [
        "# Pair Plots\n",
        "plt.figure()\n",
        "sns.pairplot(data=df, vars=numerical_features) \n",
        "plt.show()"
      ],
      "metadata": {
        "colab": {
          "base_uri": "https://localhost:8080/",
          "height": 744
        },
        "id": "euRuSlN_Vev6",
        "outputId": "3a50c5a6-992d-49e3-cd72-6a95d5be7582"
      },
      "execution_count": 22,
      "outputs": [
        {
          "output_type": "display_data",
          "data": {
            "text/plain": [
              "<Figure size 432x288 with 0 Axes>"
            ]
          },
          "metadata": {}
        },
        {
          "output_type": "display_data",
          "data": {
            "text/plain": [
              "<Figure size 720x720 with 20 Axes>"
            ],
            "image/png": "[encoded data removed]"
          },
          "metadata": {
            "needs_background": "light"
          }
        }
      ]
    },
    {
      "cell_type": "code",
      "source": [
        "# Correlation heatmap\n",
        "plt.figure()\n",
        "sns.heatmap(df[numerical_features].corr(), annot=True, cmap='Blues')\n",
        "plt.show()"
      ],
      "metadata": {
        "colab": {
          "base_uri": "https://localhost:8080/",
          "height": 269
        },
        "id": "da5zV202btap",
        "outputId": "59ae4574-37bb-41de-f03d-a73cd782eb38"
      },
      "execution_count": 23,
      "outputs": [
        {
          "output_type": "display_data",
          "data": {
            "text/plain": [
              "<Figure size 432x288 with 2 Axes>"
            ],
            "image/png": "[encoded data removed]"
          },
          "metadata": {
            "needs_background": "light"
          }
        }
      ]
    },
    {
      "cell_type": "markdown",
      "source": [
        "#### Inferences:\n",
        "\n",
        "The numerical features are not correlated enough for any of them to be dropped. Usually, if there is a high degree of correlation, then decisions regarding dropping of a feature needs to be made."
      ],
      "metadata": {
        "id": "exWjh7K8x3F7"
      }
    },
    {
      "cell_type": "markdown",
      "source": [
        "#### Numeric-categorical analysis\n",
        "\n",
        "---\n",
        "\n",
        "1. Grouping categories of one column and checking the groups' central tendencies for the target variable\n",
        "2. Descriptive stats for the groups in a columns & Box plots - target variables v/s the groups of the column "
      ],
      "metadata": {
        "id": "I0uN0ZjPd8Fc"
      }
    },
    {
      "cell_type": "markdown",
      "source": [
        "##### Grouping categories of one column and checking the groups' central tendencies for the target variable"
      ],
      "metadata": {
        "id": "6pGtc-bde87i"
      }
    },
    {
      "cell_type": "code",
      "source": [
        "for i in numerical_features:\n",
        "  print(f'Mean values of \\'{i}\\' for the categories of')\n",
        "  print(df.groupby(target_var)[i].mean())\n",
        "  print(f'\\nMedian values of \\'{i}\\' for the categories of')\n",
        "  print(df.groupby(target_var)[i].median())\n",
        "  print('#############################################\\n')"
      ],
      "metadata": {
        "colab": {
          "base_uri": "https://localhost:8080/"
        },
        "id": "zS2hQ6N4e6_J",
        "outputId": "d56665f5-1728-4365-ff46-f68c16e89c11"
      },
      "execution_count": 24,
      "outputs": [
        {
          "output_type": "stream",
          "name": "stdout",
          "text": [
            "Mean values of 'Age' for the categories of\n",
            "Survived\n",
            "0    30.415100\n",
            "1    28.549778\n",
            "Name: Age, dtype: float64\n",
            "\n",
            "Median values of 'Age' for the categories of\n",
            "Survived\n",
            "0    29.699118\n",
            "1    29.699118\n",
            "Name: Age, dtype: float64\n",
            "#############################################\n",
            "\n",
            "Mean values of 'SibSp' for the categories of\n",
            "Survived\n",
            "0    0.553734\n",
            "1    0.473684\n",
            "Name: SibSp, dtype: float64\n",
            "\n",
            "Median values of 'SibSp' for the categories of\n",
            "Survived\n",
            "0    0.0\n",
            "1    0.0\n",
            "Name: SibSp, dtype: float64\n",
            "#############################################\n",
            "\n",
            "Mean values of 'Parch' for the categories of\n",
            "Survived\n",
            "0    0.329690\n",
            "1    0.464912\n",
            "Name: Parch, dtype: float64\n",
            "\n",
            "Median values of 'Parch' for the categories of\n",
            "Survived\n",
            "0    0.0\n",
            "1    0.0\n",
            "Name: Parch, dtype: float64\n",
            "#############################################\n",
            "\n",
            "Mean values of 'Fare' for the categories of\n",
            "Survived\n",
            "0    22.117887\n",
            "1    48.395408\n",
            "Name: Fare, dtype: float64\n",
            "\n",
            "Median values of 'Fare' for the categories of\n",
            "Survived\n",
            "0    10.5\n",
            "1    26.0\n",
            "Name: Fare, dtype: float64\n",
            "#############################################\n",
            "\n"
          ]
        }
      ]
    },
    {
      "cell_type": "markdown",
      "source": [
        "##### Descriptive stats for the groups in a columns & Box plots - target variables v/s the groups of the column "
      ],
      "metadata": {
        "id": "cyTRCumZriEP"
      }
    },
    {
      "cell_type": "code",
      "source": [
        "for i in numerical_features:\n",
        "  plt.figure()\n",
        "  sns.boxplot(y=i, x=target_var, data=df)\n",
        "  print(df.groupby(target_var)[i].describe())\n",
        "  plt.show()\n",
        "  print('\\n')\n",
        "  print('######################################################################################################\\n')"
      ],
      "metadata": {
        "colab": {
          "base_uri": "https://localhost:8080/",
          "height": 1000
        },
        "outputId": "0c58afa6-8bf2-49cb-f4c3-c17529c9dbcb",
        "id": "4yWrROAQrxaO"
      },
      "execution_count": 25,
      "outputs": [
        {
          "output_type": "stream",
          "name": "stdout",
          "text": [
            "          count       mean        std   min   25%        50%   75%   max\n",
            "Survived                                                                \n",
            "0         549.0  30.415100  12.457370  1.00  23.0  29.699118  35.0  74.0\n",
            "1         342.0  28.549778  13.772498  0.42  21.0  29.699118  35.0  80.0\n"
          ]
        },
        {
          "output_type": "display_data",
          "data": {
            "text/plain": [
              "<Figure size 432x288 with 1 Axes>"
            ],
            "image/png": "[encoded data removed]"
          },
          "metadata": {
            "needs_background": "light"
          }
        },
        {
          "output_type": "stream",
          "name": "stdout",
          "text": [
            "\n",
            "\n",
            "######################################################################################################\n",
            "\n",
            "          count      mean       std  min  25%  50%  75%  max\n",
            "Survived                                                    \n",
            "0         549.0  0.553734  1.288399  0.0  0.0  0.0  1.0  8.0\n",
            "1         342.0  0.473684  0.708688  0.0  0.0  0.0  1.0  4.0\n"
          ]
        },
        {
          "output_type": "display_data",
          "data": {
            "text/plain": [
              "<Figure size 432x288 with 1 Axes>"
            ],
            "image/png": "[encoded data removed]"
          },
          "metadata": {
            "needs_background": "light"
          }
        },
        {
          "output_type": "stream",
          "name": "stdout",
          "text": [
            "\n",
            "\n",
            "######################################################################################################\n",
            "\n",
            "          count      mean       std  min  25%  50%  75%  max\n",
            "Survived                                                    \n",
            "0         549.0  0.329690  0.823166  0.0  0.0  0.0  0.0  6.0\n",
            "1         342.0  0.464912  0.771712  0.0  0.0  0.0  1.0  5.0\n"
          ]
        },
        {
          "output_type": "display_data",
          "data": {
            "text/plain": [
              "<Figure size 432x288 with 1 Axes>"
            ],
            "image/png": "[encoded data removed]"
          },
          "metadata": {
            "needs_background": "light"
          }
        },
        {
          "output_type": "stream",
          "name": "stdout",
          "text": [
            "\n",
            "\n",
            "######################################################################################################\n",
            "\n",
            "          count       mean        std  min      25%   50%   75%       max\n",
            "Survived                                                                 \n",
            "0         549.0  22.117887  31.388207  0.0   7.8542  10.5  26.0  263.0000\n",
            "1         342.0  48.395408  66.596998  0.0  12.4750  26.0  57.0  512.3292\n"
          ]
        },
        {
          "output_type": "display_data",
          "data": {
            "text/plain": [
              "<Figure size 432x288 with 1 Axes>"
            ],
            "image/png": "[encoded data removed]"
          },
          "metadata": {
            "needs_background": "light"
          }
        },
        {
          "output_type": "stream",
          "name": "stdout",
          "text": [
            "\n",
            "\n",
            "######################################################################################################\n",
            "\n"
          ]
        }
      ]
    },
    {
      "cell_type": "markdown",
      "source": [
        "#### Inferences:\n",
        "\n",
        "There are heavy outliers in some of the cases, so to discuss the central tendency, we'll use the median (50 percentile or Quartile 2) for the discussion.\n",
        "\n",
        "Fig 1: The median age of people who survived and did not survive is the same at around 29.7 years. \n",
        "\n",
        "Fig 2: The median number of siblings/spouses both the survivors and non-survivors had was 0.\n",
        "\n",
        "Fig.3: The median number of parents/children both the survivors and non-survivors had was 0.\n",
        "\n",
        "Fig.4: The median fare for survivors was 26 whereas for non-survivors it was 10.5.\n"
      ],
      "metadata": {
        "id": "cuQx-Y3DyTGb"
      }
    },
    {
      "cell_type": "markdown",
      "source": [
        "#### Categorical-categorical analysis\n",
        "\n",
        "---\n",
        "\n",
        "Very dependent on the case.  \n",
        "\n",
        "\n",
        "**Example 1:**   \n",
        "*Response* (2 categories): yes/no  \n",
        "*Marital Status* (3 categories): single, married, divorced  \n",
        "*Loan* (2 categories): yes/no\n",
        "\n",
        "Say, we want to check the response rate categorized by marital status and loan\n",
        "\n",
        "Firstly, convert response rate to numerical data type where yes=1 and no=0\n",
        "```\n",
        "df['response_rate'] = np.where(data['response']=='yes',1,0)\n",
        "df['response_rate'].value_counts()\n",
        "\n",
        "0  39876\n",
        "1  5285\n",
        "Name: response_rate, dtype: int64\n",
        "```\n",
        "Then, plot the marital status of people with response rate. It shows the mean number of people who responded with 'yes' to the survey categorized by their marital status\n",
        "```\n",
        "df.groupby('marital status')['response_rate'].mean().plot.bar()\n",
        "plt.show()\n",
        "```\n",
        "Also, we can plot the mean loan with response rate. It will show what people who have or haven't taken a loan are likely to respond\n",
        "```\n",
        "df.groupby('loan')['response_rate'].mean().plot().bar()\n",
        "plt.show()\n",
        "```\n",
        "\n",
        "**Example 2:** Refer to the sample below\n"
      ],
      "metadata": {
        "id": "WzKSmjr1uh68"
      }
    },
    {
      "cell_type": "code",
      "source": [
        "for i in categorical_features:\n",
        "  df.groupby(i)[target_var].mean().plot.bar()\n",
        "  plt.ylabel('Mean value of \\'Survived\\'')\n",
        "  plt.show()"
      ],
      "metadata": {
        "colab": {
          "base_uri": "https://localhost:8080/",
          "height": 823
        },
        "id": "JbibCn9PgBtN",
        "outputId": "e2725509-6826-4597-bcfd-361254ef09c7"
      },
      "execution_count": 26,
      "outputs": [
        {
          "output_type": "display_data",
          "data": {
            "text/plain": [
              "<Figure size 432x288 with 1 Axes>"
            ],
            "image/png": "[encoded data removed]"
          },
          "metadata": {
            "needs_background": "light"
          }
        },
        {
          "output_type": "display_data",
          "data": {
            "text/plain": [
              "<Figure size 432x288 with 1 Axes>"
            ],
            "image/png": "[encoded data removed]"
          },
          "metadata": {
            "needs_background": "light"
          }
        },
        {
          "output_type": "display_data",
          "data": {
            "text/plain": [
              "<Figure size 432x288 with 1 Axes>"
            ],
            "image/png": "[encoded data removed]"
          },
          "metadata": {
            "needs_background": "light"
          }
        }
      ]
    },
    {
      "cell_type": "markdown",
      "source": [
        "#### Inferences:\n",
        "\n",
        "These figures help us infer the *tendency* of survival based on the categorical features.\n",
        "\n",
        "Fig.1: Females are more likely to survive than the males despite them being fewer in number (refer to the distribution [here](https://colab.research.google.com/drive/1lpAoCAmxmPR4SR5tVrsdTD1q8cx58nnr#scrollTo=0IrdTAsVxoyJ&line=11&uniqifier=1))\n",
        "\n",
        "Fig 2: The Pclass which is the ticket class can be considered a proxy to the socio-economic status of the passengers. It shows that the likeliness to survive decreases when moving from the Upper (1) to Middle (2) to Lower (3) ticket classes, despite the Lower (3) class being the highest in number (Refer [here](https://colab.research.google.com/drive/1lpAoCAmxmPR4SR5tVrsdTD1q8cx58nnr#scrollTo=0IrdTAsVxoyJ&line=11&uniqifier=1)) \n",
        "\n",
        "Fig 3: As per [here](https://colab.research.google.com/drive/1lpAoCAmxmPR4SR5tVrsdTD1q8cx58nnr#scrollTo=0IrdTAsVxoyJ&line=11&uniqifier=1), most number of passengers boarded from S, then C, and then Q. However, the passengers that boarded from C had higher survival chances, and S the lowest.\n"
      ],
      "metadata": {
        "id": "_rtl-l2pzzT-"
      }
    },
    {
      "cell_type": "markdown",
      "source": [],
      "metadata": {
        "id": "hEFmy9UqzzJW"
      }
    },
    {
      "cell_type": "markdown",
      "source": [
        "## **2] Feature Engineering**\n",
        "\n",
        "---\n",
        "\n",
        "General Steps:  \n",
        "1. Start from the cleaned data from EDA -  missing values and outliers are taken care of already\n",
        "2. Encode categorical data\n",
        "> 1. Ordinal or Label Encoding  \n",
        "  2. One-Hot Encoding\n",
        "  3. Effect Encoding - like OHE but uses -1, 0, 1\n",
        "  4. Hash Encoding - binary numbers; can fix the #columns\n",
        "  5. Binary Encoding - looks like hash but like OHE, there's no loss of info.\n",
        "  6. Base-N Encoding - may get lower dimension than binary but more numbers\n",
        "3. Splitting the dataset\n",
        "4. Feature Scaling or Transformation\n",
        "5. Feature Generation \n"
      ],
      "metadata": {
        "id": "XhOh915U0r2r"
      }
    },
    {
      "cell_type": "markdown",
      "source": [
        "### Loading the cleaned data from EDA3"
      ],
      "metadata": {
        "id": "jnEKt36m6E2y"
      }
    },
    {
      "cell_type": "code",
      "source": [
        "cleaned_dataset = df.copy()\n",
        "print(cleaned_dataset.head(5))\n",
        "print('\\n')\n",
        "print(f'Number of rows in the original dataset: {dataset.shape[0]}')\n",
        "print(f'Number of columns in the original dataset: {dataset.shape[1]}')\n",
        "print('\\n')\n",
        "print(f'Number of rows in the cleaned dataset: {cleaned_dataset.shape[0]}')\n",
        "print(f'Number of columns in the cleaned dataset: {cleaned_dataset.shape[1]}')"
      ],
      "metadata": {
        "colab": {
          "base_uri": "https://localhost:8080/"
        },
        "id": "VQEzkOC550VC",
        "outputId": "d14007cb-2df5-482c-f98e-141646d89577"
      },
      "execution_count": 27,
      "outputs": [
        {
          "output_type": "stream",
          "name": "stdout",
          "text": [
            "   PassengerId  Survived  Pclass                                               Name     Sex   Age  SibSp  Parch            Ticket     Fare Embarked\n",
            "0            1         0       3                            Braund, Mr. Owen Harris    male  22.0      1      0         A/5 21171   7.2500        S\n",
            "1            2         1       1  Cumings, Mrs. John Bradley (Florence Briggs Th...  female  38.0      1      0          PC 17599  71.2833        C\n",
            "2            3         1       3                             Heikkinen, Miss. Laina  female  26.0      0      0  STON/O2. 3101282   7.9250        S\n",
            "3            4         1       1       Futrelle, Mrs. Jacques Heath (Lily May Peel)  female  35.0      1      0            113803  53.1000        S\n",
            "4            5         0       3                           Allen, Mr. William Henry    male  35.0      0      0            373450   8.0500        S\n",
            "\n",
            "\n",
            "Number of rows in the original dataset: 891\n",
            "Number of columns in the original dataset: 12\n",
            "\n",
            "\n",
            "Number of rows in the cleaned dataset: 891\n",
            "Number of columns in the cleaned dataset: 11\n"
          ]
        }
      ]
    },
    {
      "cell_type": "markdown",
      "source": [
        "### Encoding the categorical data"
      ],
      "metadata": {
        "id": "KhlO3z8967Uc"
      }
    },
    {
      "cell_type": "code",
      "source": [
        "print('\\nThe unique values for the categories are: ')\n",
        "for i in categorical_features:\n",
        "  print(f'{i}: {cleaned_dataset[i].unique()}')"
      ],
      "metadata": {
        "colab": {
          "base_uri": "https://localhost:8080/"
        },
        "id": "bkTyI-B66_Nx",
        "outputId": "8eb3b1ac-49b8-4978-fc9e-362a75335b93"
      },
      "execution_count": 28,
      "outputs": [
        {
          "output_type": "stream",
          "name": "stdout",
          "text": [
            "\n",
            "The unique values for the categories are: \n",
            "Sex: ['male' 'female']\n",
            "Pclass: [3 1 2]\n",
            "Embarked: ['S' 'C' 'Q']\n"
          ]
        }
      ]
    },
    {
      "cell_type": "markdown",
      "source": [
        "#### Ordinal or Label Encoder\n",
        "---\n",
        "Used when there is a natural order to the feature. While Pclass has an order, it is already numerical, so this encoding is not required."
      ],
      "metadata": {
        "id": "Lzhatr4C9jBx"
      }
    },
    {
      "cell_type": "code",
      "source": [
        "# Returns a df with the original columns intact\n",
        "\n",
        "######## Another way ##########\n",
        "# def ordinal_mapper(category):\n",
        "#   \"\"\"\n",
        "#   Returns the mapped values\n",
        "#   \"\"\"\n",
        "#   return {'FEATURE1': 1, 'FEATURE2': 2, 'FEATURE3': 3}.get(category, -1)\n",
        "\n",
        "# encoder = ce.OrdinalEncoder(\n",
        "#             return_df = True,\n",
        "#             mapping = [{'col':'COLUMN_NAME', 'mapping': ordinal_mapper}]\n",
        "#           )\n",
        "# cleaned_dataset = encoder.fit_transform(cleaned_dataset)\n",
        "# print(cleaned_dataset.head(5))"
      ],
      "metadata": {
        "id": "x23L9zwG-DdV"
      },
      "execution_count": 29,
      "outputs": []
    },
    {
      "cell_type": "markdown",
      "source": [
        "#### One-Hot Encoder"
      ],
      "metadata": {
        "id": "pGopaiOG9jUw"
      }
    },
    {
      "cell_type": "code",
      "source": [
        "######## For 2 values mapping ##########\n",
        "# def binary_map(x):\n",
        "#    return x.map({'yes': 1, \"no\": 0})\n",
        "\n",
        "# Applying the function to the housing list\n",
        "# varlist = [FEATURE LIST]\n",
        "# cleaned_dataset[varlist] = cleaned_dataset[varlist].apply(binary_map)\n",
        "# print('\\n')\n",
        "# print(cleaned_dataset.head(5))\n",
        "\n",
        "########## Another way - dummy variables ##############\n",
        "# This leaves the original column intact\n",
        "# status = pd.get_dummies(cleaned_dataset['furnishingstatus'])\n",
        "# status = pd.get_dummies(cleaned_dataset['furnishingstatus'], drop_first = True) # because the other can be inferred\n",
        "# cleaned_dataset = pd.concat([cleaned_dataset, status], axis = 1)\n",
        "# print(cleaned_dataset.head())\n",
        "\n",
        "######### Another way for OHE more than 2 values ###############\n",
        "# This leaves the original changed \n",
        "varlist = ['Sex', 'Embarked']\n",
        "encoder = ce.OneHotEncoder(\n",
        "             cols = varlist,\n",
        "             return_df = True,\n",
        "             use_cat_names = True\n",
        "           )\n",
        "cleaned_dataset = encoder.fit_transform(cleaned_dataset)\n",
        "print(cleaned_dataset.head())"
      ],
      "metadata": {
        "colab": {
          "base_uri": "https://localhost:8080/"
        },
        "id": "mDQWIw3IFP7u",
        "outputId": "3b4b9208-6cd6-4bf2-cd60-a0100e040db7"
      },
      "execution_count": 30,
      "outputs": [
        {
          "output_type": "stream",
          "name": "stdout",
          "text": [
            "   PassengerId  Survived  Pclass                                               Name  Sex_male  Sex_female   Age  SibSp  Parch            Ticket     Fare  Embarked_S  Embarked_C  Embarked_Q\n",
            "0            1         0       3                            Braund, Mr. Owen Harris         1           0  22.0      1      0         A/5 21171   7.2500           1           0           0\n",
            "1            2         1       1  Cumings, Mrs. John Bradley (Florence Briggs Th...         0           1  38.0      1      0          PC 17599  71.2833           0           1           0\n",
            "2            3         1       3                             Heikkinen, Miss. Laina         0           1  26.0      0      0  STON/O2. 3101282   7.9250           1           0           0\n",
            "3            4         1       1       Futrelle, Mrs. Jacques Heath (Lily May Peel)         0           1  35.0      1      0            113803  53.1000           1           0           0\n",
            "4            5         0       3                           Allen, Mr. William Henry         1           0  35.0      0      0            373450   8.0500           1           0           0\n"
          ]
        }
      ]
    },
    {
      "cell_type": "markdown",
      "source": [
        "#### Effect Encoder"
      ],
      "metadata": {
        "id": "Ox1laW0h9jk_"
      }
    },
    {
      "cell_type": "code",
      "source": [
        "# encoder = ce.sum_coding.SumEncoder(\n",
        "#             cols = [''],\n",
        "#             verbose = False\n",
        "#           )\n",
        "# cleaned_dataset = encoder.fit_transform(cleaned_dataset)\n",
        "# print(cleaned_dataset.head())"
      ],
      "metadata": {
        "id": "wiPswUuLHeLf"
      },
      "execution_count": 31,
      "outputs": []
    },
    {
      "cell_type": "markdown",
      "source": [
        "#### Hash Encoder"
      ],
      "metadata": {
        "id": "S4JgYUpw9juc"
      }
    },
    {
      "cell_type": "code",
      "source": [
        "# encoder = ce.HashEncoder(\n",
        "#             cols = [''],\n",
        "#             n_components = #\n",
        "#           )\n",
        "# cleaned_dataset = encoder.fit_transform(cleaned_dataset)\n",
        "# print(cleaned_dataset.head())"
      ],
      "metadata": {
        "id": "lxqZ_roZJpNY"
      },
      "execution_count": 32,
      "outputs": []
    },
    {
      "cell_type": "markdown",
      "source": [
        "#### Binary Encoder"
      ],
      "metadata": {
        "id": "TJmB0lH-9j3K"
      }
    },
    {
      "cell_type": "code",
      "source": [
        "# encoder = ce.BinaryEncoder(\n",
        "#             cols = [''],\n",
        "#             return_df = True\n",
        "#           )\n",
        "# cleaned_dataset = encoder.fit_transform(cleaned_dataset)\n",
        "# print(cleaned_dataset.head())"
      ],
      "metadata": {
        "id": "ehx0ZT-fJ2oH"
      },
      "execution_count": 33,
      "outputs": []
    },
    {
      "cell_type": "markdown",
      "source": [
        "#### Base-N Encoder"
      ],
      "metadata": {
        "id": "FJsuVQSk9kUw"
      }
    },
    {
      "cell_type": "code",
      "source": [
        "# encoder = ce.BaseNEncoder(\n",
        "#             cols = [''],\n",
        "#             return_df = True,\n",
        "#             base = #\n",
        "#           )\n",
        "# cleaned_dataset = encoder.fit_transform(cleaned_dataset)\n",
        "# print(cleaned_dataset.head())"
      ],
      "metadata": {
        "id": "ihngNv_aJ_ur"
      },
      "execution_count": 34,
      "outputs": []
    },
    {
      "cell_type": "markdown",
      "source": [
        "### Dropping features which are useless\n",
        "\n",
        "---\n",
        "\n",
        "Features PassengerId, Name, and Ticket are useless in this scenario, and are thus dropped"
      ],
      "metadata": {
        "id": "N29XJBfoK2L3"
      }
    },
    {
      "cell_type": "code",
      "source": [
        "drop_cols = ['PassengerId', 'Name', 'Ticket']\n",
        "cleaned_dataset.drop(drop_cols, axis=1, inplace=True)\n",
        "print(df.head())"
      ],
      "metadata": {
        "colab": {
          "base_uri": "https://localhost:8080/"
        },
        "id": "1Rc4BrHNK_cE",
        "outputId": "c25df8a8-06d9-446d-a3ef-e3872af83d05"
      },
      "execution_count": 35,
      "outputs": [
        {
          "output_type": "stream",
          "name": "stdout",
          "text": [
            "   PassengerId  Survived  Pclass                                               Name     Sex   Age  SibSp  Parch            Ticket     Fare Embarked\n",
            "0            1         0       3                            Braund, Mr. Owen Harris    male  22.0      1      0         A/5 21171   7.2500        S\n",
            "1            2         1       1  Cumings, Mrs. John Bradley (Florence Briggs Th...  female  38.0      1      0          PC 17599  71.2833        C\n",
            "2            3         1       3                             Heikkinen, Miss. Laina  female  26.0      0      0  STON/O2. 3101282   7.9250        S\n",
            "3            4         1       1       Futrelle, Mrs. Jacques Heath (Lily May Peel)  female  35.0      1      0            113803  53.1000        S\n",
            "4            5         0       3                           Allen, Mr. William Henry    male  35.0      0      0            373450   8.0500        S\n"
          ]
        }
      ]
    },
    {
      "cell_type": "markdown",
      "source": [
        "### Splitting the dataset\n",
        "\n",
        "---\n",
        "\n",
        "Done before feature scaling to prevent information leakage from test set to train set.\n",
        "\n",
        "Here, the data is already split (we're using the train.csv file)"
      ],
      "metadata": {
        "id": "NbX2cupVKWxM"
      }
    },
    {
      "cell_type": "code",
      "source": [
        "# m=[]\n",
        "# for i in cleaned_dataset.columns.values:\n",
        "#     m.append(i.replace(' ','_'))\n",
        "# cleaned_dataset.columns = m\n",
        "\n",
        "X = cleaned_dataset.drop(target_var, axis=1)\n",
        "y = cleaned_dataset[target_var]\n",
        "\n",
        "# X_train, X_test, y_train, y_test = train_test_split(X, y, test_size = 0.2, random_state = 42)\n",
        "\n",
        "X_train = X\n",
        "y_train = y"
      ],
      "metadata": {
        "id": "3068kuzjKh-2"
      },
      "execution_count": 36,
      "outputs": []
    },
    {
      "cell_type": "markdown",
      "source": [
        "### Feature Scaling or Transformation\n"
      ],
      "metadata": {
        "id": "fhvjUaiqLxBl"
      }
    },
    {
      "cell_type": "code",
      "source": [
        "sc = StandardScaler()\n",
        "\n",
        "X_train[numerical_features] = sc.fit_transform(X_train[numerical_features])\n",
        "# X_test[numerical_features] = sc.transform(X_test[numerical_features])\n",
        "\n",
        "print(X_train.head())\n",
        "print('\\n')\n",
        "# print(X_test.head())\n"
      ],
      "metadata": {
        "colab": {
          "base_uri": "https://localhost:8080/"
        },
        "id": "mAbmlexPMBEE",
        "outputId": "19155131-60d5-489d-a28c-d1a18c50f059"
      },
      "execution_count": 39,
      "outputs": [
        {
          "output_type": "stream",
          "name": "stdout",
          "text": [
            "   Pclass  Sex_male  Sex_female       Age     SibSp     Parch      Fare  Embarked_S  Embarked_C  Embarked_Q\n",
            "0       3         1           0 -0.592481  0.432793 -0.473674 -0.502445           1           0           0\n",
            "1       1         0           1  0.638789  0.432793 -0.473674  0.786845           0           1           0\n",
            "2       3         0           1 -0.284663 -0.474545 -0.473674 -0.488854           1           0           0\n",
            "3       1         0           1  0.407926  0.432793 -0.473674  0.420730           1           0           0\n",
            "4       3         1           0  0.407926 -0.474545 -0.473674 -0.486337           1           0           0\n",
            "\n",
            "\n"
          ]
        }
      ]
    },
    {
      "cell_type": "markdown",
      "source": [
        "#### Feature Generation\n",
        "\n",
        "---\n",
        "\n",
        "Using domain knowledge or analysis, reduce dimensions or generate new features.\n",
        "\n",
        "In this case, not much can be done, but one example for feature reduction can be Number of Relatives = SibSp + Parch.\n"
      ],
      "metadata": {
        "id": "Qb4rgWIrbmPB"
      }
    }
  ]
}